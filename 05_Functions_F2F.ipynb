{
  "nbformat": 4,
  "nbformat_minor": 0,
  "metadata": {
    "colab": {
      "provenance": [],
      "include_colab_link": true
    },
    "kernelspec": {
      "name": "python3",
      "display_name": "Python 3"
    },
    "language_info": {
      "name": "python"
    }
  },
  "cells": [
    {
      "cell_type": "markdown",
      "metadata": {
        "id": "view-in-github",
        "colab_type": "text"
      },
      "source": [
        "<a href=\"https://colab.research.google.com/github/sarahgrowcock/cs_1400_practice/blob/main/05_Functions_F2F.ipynb\" target=\"_parent\"><img src=\"https://colab.research.google.com/assets/colab-badge.svg\" alt=\"Open In Colab\"/></a>"
      ]
    },
    {
      "cell_type": "markdown",
      "source": [
        "#Creating Functions\n",
        "\n"
      ],
      "metadata": {
        "id": "Dt2nbdWZtdWt"
      }
    },
    {
      "cell_type": "markdown",
      "source": [
        "#Making Functions Reusable\n",
        "A key thing to remember when writing a function is to code it in such a way that it is reusable.  Below we have two functions, one is more resuable than the other.  Answer the following questions to discover what makes a function reusable.\n",
        "1. Observe the code below.  What keyword is used to indicate that a code segment is a funciton definition?\n",
        "2. What are the names of the two functions being defined?\n",
        "3. Both functions perform the same task.  What task does the function perform?\n",
        "4. What is the difference between how the functions are coded?\n",
        "5. The function call is what allows the code to be used.  Observe the function calls below the functions.  Which function will run first?\n",
        "6. Run the program.  Enter the same input for each of the radius.  Do you get the same output?\n",
        "7. We would like to print the answer to 2 decimal places.  Without changing the any code in the function, could we print the answer to two decimal places using AreaLimited() in the main program?  How about AreaReusable()\n",
        "8. Suppose we needed to print the area to a file.  Without changing the function at all, could we print the output to a file using the Area_Reusable() function?  How about using the Area_Limited() function?\n",
        "9.  Observe the code segment under the comment Function call on an Array.  We have a list of values that we need to calculate the area for.  Which function was used to perform this calculation?  Why do you suppose this function could be used instead of the other?\n",
        "10.  From your observations, which function is more reusable and why?\n"
      ],
      "metadata": {
        "id": "nYyRwwGcMHCS"
      }
    },
    {
      "cell_type": "code",
      "source": [
        "import math\n",
        "#Example of a function that is more reusable\n",
        "def Area_Reusable(radius):\n",
        "  area = math.pi * math.pow(radius, 2)\n",
        "  return area\n",
        "\n",
        "#Example of a function with limited uses\n",
        "def Area_Limited():\n",
        "  radius = int(input(\"Enter the size of the radius\"))\n",
        "  area = math.pi * math.pow(radius, 2)\n",
        "  print(area)\n",
        "\n",
        "#Function Calls\n",
        "print(\"Function Limited\")\n",
        "Area_Limited()\n",
        "\n",
        "#Function Resuable\n",
        "print(\"Function Reusable\")\n",
        "radius = int(input(\"Enter the size of the radius\"))\n",
        "area = Area_Reusable(radius)\n",
        "print(area)\n",
        "\n",
        "#Function call on an Array\n",
        "several_areas = [5, 20, 50, 75]\n",
        "sum_of_area = 0;\n",
        "for i in several_areas:\n",
        "  sum_of_area += Area_Reusable(i)\n",
        "print(\"The sum of all the areas is\", round(sum_of_area, 2))"
      ],
      "metadata": {
        "id": "ZbKH0lM6MPfn"
      },
      "execution_count": null,
      "outputs": []
    }
  ]
}